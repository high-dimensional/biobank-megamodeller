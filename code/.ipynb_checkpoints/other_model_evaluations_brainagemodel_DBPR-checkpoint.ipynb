{
 "cells": [
  {
   "cell_type": "code",
   "execution_count": 1,
   "metadata": {},
   "outputs": [],
   "source": [
    "from dp_model.model_files.sfcn import SFCN\n",
    "from dp_model import dp_loss as dpl\n",
    "from dp_model import dp_utils as dpu\n",
    "import torch\n",
    "import torch.nn.functional as F\n",
    "import numpy as np\n",
    "import matplotlib.pyplot as plt\n",
    "import glob\n",
    "import os\n",
    "import nibabel as nib\n",
    "import pandas as pd\n",
    "from tqdm.autonotebook import tqdm\n",
    "from sklearn.metrics import mean_absolute_error\n",
    "from sklearn.metrics import r2_score\n",
    "from sklearn.metrics import balanced_accuracy_score\n",
    "from sklearn.metrics import roc_auc_score\n",
    "import shutil\n",
    "import zipfile\n",
    "import os"
   ]
  },
  {
   "cell_type": "code",
   "execution_count": 2,
   "metadata": {},
   "outputs": [
    {
     "name": "stdout",
     "output_type": "stream",
     "text": [
      "1.11.0+cu102\n"
     ]
    }
   ],
   "source": [
    "print(torch.__version__)"
   ]
  },
  {
   "cell_type": "code",
   "execution_count": 3,
   "metadata": {},
   "outputs": [
    {
     "name": "stdout",
     "output_type": "stream",
     "text": [
      "First we will evaluate the Peng et al., Neuroimage brain age and sex models\n",
      "This is available here: https://github.com/ha-ha-ha-han/UKBiobank_deep_pretrain\n"
     ]
    }
   ],
   "source": [
    "print(\"First we will evaluate the Peng et al., Neuroimage brain age and sex models\")\n",
    "print(\"This is available here: https://github.com/ha-ha-ha-han/UKBiobank_deep_pretrain\")"
   ]
  },
  {
   "cell_type": "code",
   "execution_count": 4,
   "metadata": {},
   "outputs": [
    {
     "data": {
      "text/plain": [
       "DataParallel(\n",
       "  (module): SFCN(\n",
       "    (feature_extractor): Sequential(\n",
       "      (conv_0): Sequential(\n",
       "        (0): Conv3d(1, 32, kernel_size=(3, 3, 3), stride=(1, 1, 1), padding=(1, 1, 1))\n",
       "        (1): BatchNorm3d(32, eps=1e-05, momentum=0.1, affine=True, track_running_stats=True)\n",
       "        (2): MaxPool3d(kernel_size=2, stride=2, padding=0, dilation=1, ceil_mode=False)\n",
       "        (3): ReLU()\n",
       "      )\n",
       "      (conv_1): Sequential(\n",
       "        (0): Conv3d(32, 64, kernel_size=(3, 3, 3), stride=(1, 1, 1), padding=(1, 1, 1))\n",
       "        (1): BatchNorm3d(64, eps=1e-05, momentum=0.1, affine=True, track_running_stats=True)\n",
       "        (2): MaxPool3d(kernel_size=2, stride=2, padding=0, dilation=1, ceil_mode=False)\n",
       "        (3): ReLU()\n",
       "      )\n",
       "      (conv_2): Sequential(\n",
       "        (0): Conv3d(64, 128, kernel_size=(3, 3, 3), stride=(1, 1, 1), padding=(1, 1, 1))\n",
       "        (1): BatchNorm3d(128, eps=1e-05, momentum=0.1, affine=True, track_running_stats=True)\n",
       "        (2): MaxPool3d(kernel_size=2, stride=2, padding=0, dilation=1, ceil_mode=False)\n",
       "        (3): ReLU()\n",
       "      )\n",
       "      (conv_3): Sequential(\n",
       "        (0): Conv3d(128, 256, kernel_size=(3, 3, 3), stride=(1, 1, 1), padding=(1, 1, 1))\n",
       "        (1): BatchNorm3d(256, eps=1e-05, momentum=0.1, affine=True, track_running_stats=True)\n",
       "        (2): MaxPool3d(kernel_size=2, stride=2, padding=0, dilation=1, ceil_mode=False)\n",
       "        (3): ReLU()\n",
       "      )\n",
       "      (conv_4): Sequential(\n",
       "        (0): Conv3d(256, 256, kernel_size=(3, 3, 3), stride=(1, 1, 1), padding=(1, 1, 1))\n",
       "        (1): BatchNorm3d(256, eps=1e-05, momentum=0.1, affine=True, track_running_stats=True)\n",
       "        (2): MaxPool3d(kernel_size=2, stride=2, padding=0, dilation=1, ceil_mode=False)\n",
       "        (3): ReLU()\n",
       "      )\n",
       "      (conv_5): Sequential(\n",
       "        (0): Conv3d(256, 64, kernel_size=(1, 1, 1), stride=(1, 1, 1))\n",
       "        (1): BatchNorm3d(64, eps=1e-05, momentum=0.1, affine=True, track_running_stats=True)\n",
       "        (2): ReLU()\n",
       "      )\n",
       "    )\n",
       "    (classifier): Sequential(\n",
       "      (average_pool): AvgPool3d(kernel_size=[5, 6, 5], stride=[5, 6, 5], padding=0)\n",
       "      (dropout): Dropout(p=0.5, inplace=False)\n",
       "      (conv_6): Conv3d(64, 40, kernel_size=(1, 1, 1), stride=(1, 1, 1))\n",
       "    )\n",
       "  )\n",
       ")"
      ]
     },
     "execution_count": 4,
     "metadata": {},
     "output_type": "execute_result"
    }
   ],
   "source": [
    "model = SFCN()\n",
    "model = torch.nn.DataParallel(model)\n",
    "fp_ = './brain_age/run_20190719_00_epoch_best_mae.p'\n",
    "model.load_state_dict(torch.load(fp_))\n",
    "model.cuda()"
   ]
  },
  {
   "cell_type": "code",
   "execution_count": 5,
   "metadata": {},
   "outputs": [],
   "source": [
    "path = '/media/Data1/*/BIOBANK/'\n",
    "metadata_test = pd.read_csv(path+'/TEST/metadata_test.csv',index_col=0)\n",
    "metadata_test=metadata_test[::2].reset_index(drop=True) \n",
    "metadata_test['SCFN_age_prediction']=0\n",
    "metadata_test['SCFN_age_prediction_KL']=0"
   ]
  },
  {
   "cell_type": "code",
   "execution_count": 6,
   "metadata": {},
   "outputs": [
    {
     "data": {
      "application/vnd.jupyter.widget-view+json": {
       "model_id": "abc6372118c841688b0887fb96916d9f",
       "version_major": 2,
       "version_minor": 0
      },
      "text/plain": [
       "  0%|          | 0/2381 [00:00<?, ?it/s]"
      ]
     },
     "metadata": {},
     "output_type": "display_data"
    }
   ],
   "source": [
    "for i, row in tqdm(metadata_test.iterrows(),total=metadata_test.shape[0]):\n",
    "    zip_t1 = sorted(glob.glob('/home/*/Desktop/Biobank_T1/'+str(int(row['biobank_id']))+'*.zip'))[0]\n",
    "    \n",
    "    with zipfile.ZipFile(zip_t1) as z:\n",
    "        with z.open('T1/T1_brain_to_MNI.nii.gz') as zf, open('/home/*/Desktop/T1_temp.nii.gz', 'wb') as f:\n",
    "            shutil.copyfileobj(zf, f)\n",
    "            \n",
    "    data = np.asanyarray(nib.load('/home/*/Desktop/T1_temp.nii.gz').dataobj)\n",
    "    \n",
    "    label = row['age']\n",
    "\n",
    "    # Transforming the age to soft label (probability distribution)\n",
    "    bin_range = [42,82]\n",
    "    bin_step = 1\n",
    "    sigma = 1\n",
    "    y, bc = dpu.num2vect(label, bin_range, bin_step, sigma)\n",
    "    y = torch.tensor(y, dtype=torch.float32)\n",
    "\n",
    "    # Preprocessing\n",
    "    data = data/data.mean()\n",
    "    data = dpu.crop_center(data, (160, 192, 160))\n",
    "\n",
    "    # Move the data from numpy to torch tensor on GPU\n",
    "    sp = (1,1)+data.shape\n",
    "    data = data.reshape(sp)\n",
    "    input_data = torch.tensor(data, dtype=torch.float32).cuda()\n",
    "    \n",
    "    # Evaluation\n",
    "    model.eval() # Don't forget this. BatchNorm will be affected if not in eval mode.\n",
    "    with torch.no_grad():\n",
    "        output = model(input_data)\n",
    "\n",
    "    # Output, loss, visualisation\n",
    "    x = output[0].cpu().reshape([1, -1])\n",
    "    loss = dpl.my_KLDivLoss(x, y).numpy()\n",
    "\n",
    "    # Prediction, Visualisation and Summary\n",
    "    x = x.numpy().reshape(-1)\n",
    "    y = y.numpy().reshape(-1)\n",
    "\n",
    "    prob = np.exp(x)\n",
    "    pred = prob@bc\n",
    "\n",
    "    metadata_test.loc[i,'SCFN_age_prediction']=pred\n",
    "    metadata_test.loc[i,'SCFN_age_prediction_KL']=loss\n",
    "    os.remove('/home/*/Desktop/T1_temp.nii.gz')"
   ]
  },
  {
   "cell_type": "code",
   "execution_count": 7,
   "metadata": {},
   "outputs": [
    {
     "name": "stdout",
     "output_type": "stream",
     "text": [
      "HaHaHaHan Brain Age Prediction\n",
      "5.282125401294747\n",
      "0.3131510890874354\n"
     ]
    }
   ],
   "source": [
    "print(\"HaHaHaHan Brain Age Prediction\")\n",
    "print(mean_absolute_error(metadata_test['age_at_scan'], metadata_test['SCFN_age_prediction']))\n",
    "print(r2_score(y_true=metadata_test['age_at_scan'].values, y_pred = metadata_test['SCFN_age_prediction'].values))"
   ]
  },
  {
   "cell_type": "code",
   "execution_count": 8,
   "metadata": {},
   "outputs": [
    {
     "data": {
      "text/plain": [
       "DataParallel(\n",
       "  (module): SFCN(\n",
       "    (feature_extractor): Sequential(\n",
       "      (conv_0): Sequential(\n",
       "        (0): Conv3d(1, 28, kernel_size=(3, 3, 3), stride=(1, 1, 1), padding=(1, 1, 1))\n",
       "        (1): BatchNorm3d(28, eps=1e-05, momentum=0.1, affine=True, track_running_stats=True)\n",
       "        (2): MaxPool3d(kernel_size=2, stride=2, padding=0, dilation=1, ceil_mode=False)\n",
       "        (3): ReLU()\n",
       "      )\n",
       "      (conv_1): Sequential(\n",
       "        (0): Conv3d(28, 58, kernel_size=(3, 3, 3), stride=(1, 1, 1), padding=(1, 1, 1))\n",
       "        (1): BatchNorm3d(58, eps=1e-05, momentum=0.1, affine=True, track_running_stats=True)\n",
       "        (2): MaxPool3d(kernel_size=2, stride=2, padding=0, dilation=1, ceil_mode=False)\n",
       "        (3): ReLU()\n",
       "      )\n",
       "      (conv_2): Sequential(\n",
       "        (0): Conv3d(58, 128, kernel_size=(3, 3, 3), stride=(1, 1, 1), padding=(1, 1, 1))\n",
       "        (1): BatchNorm3d(128, eps=1e-05, momentum=0.1, affine=True, track_running_stats=True)\n",
       "        (2): MaxPool3d(kernel_size=2, stride=2, padding=0, dilation=1, ceil_mode=False)\n",
       "        (3): ReLU()\n",
       "      )\n",
       "      (conv_3): Sequential(\n",
       "        (0): Conv3d(128, 256, kernel_size=(3, 3, 3), stride=(1, 1, 1), padding=(1, 1, 1))\n",
       "        (1): BatchNorm3d(256, eps=1e-05, momentum=0.1, affine=True, track_running_stats=True)\n",
       "        (2): MaxPool3d(kernel_size=2, stride=2, padding=0, dilation=1, ceil_mode=False)\n",
       "        (3): ReLU()\n",
       "      )\n",
       "      (conv_4): Sequential(\n",
       "        (0): Conv3d(256, 256, kernel_size=(3, 3, 3), stride=(1, 1, 1), padding=(1, 1, 1))\n",
       "        (1): BatchNorm3d(256, eps=1e-05, momentum=0.1, affine=True, track_running_stats=True)\n",
       "        (2): MaxPool3d(kernel_size=2, stride=2, padding=0, dilation=1, ceil_mode=False)\n",
       "        (3): ReLU()\n",
       "      )\n",
       "      (conv_5): Sequential(\n",
       "        (0): Conv3d(256, 64, kernel_size=(1, 1, 1), stride=(1, 1, 1))\n",
       "        (1): BatchNorm3d(64, eps=1e-05, momentum=0.1, affine=True, track_running_stats=True)\n",
       "        (2): ReLU()\n",
       "      )\n",
       "    )\n",
       "    (classifier): Sequential(\n",
       "      (average_pool): AvgPool3d(kernel_size=[5, 6, 5], stride=[5, 6, 5], padding=0)\n",
       "      (dropout): Dropout(p=0.5, inplace=False)\n",
       "      (conv_6): Conv3d(64, 2, kernel_size=(1, 1, 1), stride=(1, 1, 1))\n",
       "    )\n",
       "  )\n",
       ")"
      ]
     },
     "execution_count": 8,
     "metadata": {},
     "output_type": "execute_result"
    }
   ],
   "source": [
    "##sex prediction\n",
    "# Example\n",
    "model = SFCN(output_dim=2, channel_number=[28, 58, 128, 256, 256, 64])\n",
    "model = torch.nn.DataParallel(model)\n",
    "fp_ = './sex_prediction/run_20191008_00_epoch_last.p'\n",
    "model.load_state_dict(torch.load(fp_))\n",
    "model.cuda()"
   ]
  },
  {
   "cell_type": "code",
   "execution_count": 9,
   "metadata": {},
   "outputs": [
    {
     "data": {
      "application/vnd.jupyter.widget-view+json": {
       "model_id": "c8c8f379c2f143ecb0f5823d3811b6f4",
       "version_major": 2,
       "version_minor": 0
      },
      "text/plain": [
       "  0%|          | 0/2381 [00:00<?, ?it/s]"
      ]
     },
     "metadata": {},
     "output_type": "display_data"
    }
   ],
   "source": [
    "for i, row in tqdm(metadata_test.iterrows(),total=metadata_test.shape[0]):\n",
    "    zip_t1 = sorted(glob.glob('/home/*/Desktop/Biobank_T1/'+str(int(row['biobank_id']))+'*.zip'))[0]\n",
    "    \n",
    "    with zipfile.ZipFile(zip_t1) as z:\n",
    "        with z.open('T1/T1_brain_to_MNI.nii.gz') as zf, open('/home/*/Desktop/T1_temp.nii.gz', 'wb') as f:\n",
    "            shutil.copyfileobj(zf, f)\n",
    "    \n",
    "    data = np.asanyarray(nib.load('/home/*/Desktop/T1_temp.nii.gz').dataobj)\n",
    "    \n",
    "    y = torch.tensor([int(row['sex'])]) # Assuming Sex is Male (0=Female, 1=Male)\n",
    "\n",
    "    # Preprocessing\n",
    "    data = data/data.mean()\n",
    "    data = dpu.crop_center(data, (160, 192, 160))\n",
    "\n",
    "    # Move the data from numpy to torch tensor on GPU\n",
    "    sp = (1,1)+data.shape\n",
    "    data = data.reshape(sp)\n",
    "    input_data = torch.tensor(data, dtype=torch.float32).cuda()\n",
    "\n",
    "    # Evaluation\n",
    "    model.eval() \n",
    "    with torch.no_grad():\n",
    "        output = model(input_data)\n",
    "\n",
    "    # Output, loss, visualisation\n",
    "    x = output[0].cpu().reshape([1, -1])\n",
    "    loss = F.nll_loss(x, y)\n",
    "\n",
    "    # Prediction, Visualisation and Summary\n",
    "    x = np.exp(x.numpy().reshape(-1))\n",
    "\n",
    "    metadata_test.loc[i,'SCFN_sex_prediction']=x.argmax()\n",
    "    os.remove('/home/*/Desktop/T1_temp.nii.gz')"
   ]
  },
  {
   "cell_type": "code",
   "execution_count": 10,
   "metadata": {},
   "outputs": [
    {
     "name": "stdout",
     "output_type": "stream",
     "text": [
      "HaHaHaHan Brain Sex Prediction\n",
      "0.9658960321936367\n",
      "0.9658960321936367\n"
     ]
    }
   ],
   "source": [
    "print(\"HaHaHaHan Brain Sex Prediction\")\n",
    "print(roc_auc_score(y_true=metadata_test['sex'].values, y_score = metadata_test['SCFN_sex_prediction'].values))\n",
    "print(balanced_accuracy_score(y_true=metadata_test['sex'], y_pred=metadata_test['SCFN_sex_prediction']))"
   ]
  },
  {
   "cell_type": "code",
   "execution_count": 11,
   "metadata": {},
   "outputs": [
    {
     "name": "stdout",
     "output_type": "stream",
     "text": [
      "Now we will evaluate brainageR\n",
      "This is available here: https://github.com/james-cole/brainageR\n"
     ]
    }
   ],
   "source": [
    "print(\"Now we will evaluate brainageR\")\n",
    "print(\"This is available here: https://github.com/james-cole/brainageR\")"
   ]
  },
  {
   "cell_type": "code",
   "execution_count": 12,
   "metadata": {},
   "outputs": [
    {
     "name": "stdout",
     "output_type": "stream",
     "text": [
      "Run the above if not done elsewhere\n"
     ]
    }
   ],
   "source": [
    "# os.system('brainage_run_parallel.sh')\n",
    "print(\"Run the above if not done elsewhere\")"
   ]
  },
  {
   "cell_type": "code",
   "execution_count": 13,
   "metadata": {},
   "outputs": [],
   "source": [
    "metadata_test['brainageR']=0\n",
    "for i, row in metadata_test.iterrows():\n",
    "    file = glob.glob('/media/Data1/brainage_prediction/prediction/*'+str(int(row['biobank_id']))+'*')\n",
    "    if len(file)>0:\n",
    "        brainage = pd.read_csv(file[0])\n",
    "        metadata_test.loc[i,'brainageR']= brainage['brain.predicted_age'].values[0]\n",
    "    else:\n",
    "        continue"
   ]
  },
  {
   "cell_type": "code",
   "execution_count": 14,
   "metadata": {},
   "outputs": [
    {
     "name": "stdout",
     "output_type": "stream",
     "text": [
      "brainageR Prediction\n",
      "5.155460842974922\n",
      "0.10002060791804346\n"
     ]
    }
   ],
   "source": [
    "print(\"brainageR Prediction\")\n",
    "print(mean_absolute_error(metadata_test.dropna()['age_at_scan'], metadata_test.dropna()['brainageR']))\n",
    "print(r2_score(y_true=metadata_test.dropna()['age_at_scan'].values, y_pred = metadata_test.dropna()['brainageR'].values))"
   ]
  }
 ],
 "metadata": {
  "kernelspec": {
   "display_name": "Python 3 (ipykernel)",
   "language": "python",
   "name": "python3"
  },
  "language_info": {
   "codemirror_mode": {
    "name": "ipython",
    "version": 3
   },
   "file_extension": ".py",
   "mimetype": "text/x-python",
   "name": "python",
   "nbconvert_exporter": "python",
   "pygments_lexer": "ipython3",
   "version": "3.11.4"
  }
 },
 "nbformat": 4,
 "nbformat_minor": 2
}
